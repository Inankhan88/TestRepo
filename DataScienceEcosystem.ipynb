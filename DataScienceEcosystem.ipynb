{
 "cells": [
  {
   "cell_type": "markdown",
   "id": "8a09d4cd-355e-4328-b434-44c314d46a24",
   "metadata": {},
   "source": [
    "# Data Science Tools and Ecosystem"
   ]
  },
  {
   "cell_type": "markdown",
   "id": "c77e7e11-92d9-4e50-9b93-a45f66594a7c",
   "metadata": {},
   "source": [
    "# In this notebook, Data Science Tools and Ecosystem are summarized "
   ]
  },
  {
   "cell_type": "markdown",
   "id": "115bedc1-92f0-4d47-9374-f479b49bd2cd",
   "metadata": {},
   "source": [
    "**Objectives**:"
   ]
  },
  {
   "cell_type": "markdown",
   "id": "48d40580-8e6f-4c5b-9302-782515713f05",
   "metadata": {},
   "source": [
    "- Identify popular data science languages, libraries and tools\n",
    "- Practice command to create order list, add and miltiply variables\n",
    "- Convert minutes into hours ans thus practice convertation of different measurement units\n",
    "- Use heading and different fonts in markdown\n"
   ]
  },
  {
   "cell_type": "markdown",
   "id": "cff55621-fa95-4f93-bb08-253bb6e66d96",
   "metadata": {},
   "source": [
    "# Some of the popular languages that Data Scientists use are:"
   ]
  },
  {
   "cell_type": "markdown",
   "id": "fcec95ad-6ecd-4c51-bf42-0d66c4d85d11",
   "metadata": {},
   "source": [
    "- Python\n",
    "- R\n",
    "- Julia"
   ]
  },
  {
   "cell_type": "markdown",
   "id": "80378960-83fb-401b-8e77-e6921cfb35ea",
   "metadata": {},
   "source": [
    "# Some of the most commonly used libraries used by Data Scientists include:"
   ]
  },
  {
   "cell_type": "markdown",
   "id": "d7a5cff9-3cc5-49d7-8f48-91209cdfb65d",
   "metadata": {},
   "source": [
    "- Seaborn\n",
    "- Pandas\n",
    "- Tensorflow"
   ]
  },
  {
   "cell_type": "markdown",
   "id": "d11bae30-37df-4d9a-b62f-91d38fc24f4b",
   "metadata": {},
   "source": [
    "|Data Science Tools|\n",
    "| -------------------|\n",
    "|Jupyter Notebook    |\n",
    "|RStudio             |\n",
    "|Git                 |"
   ]
  },
  {
   "cell_type": "markdown",
   "id": "122b4757-47c5-4ef7-8217-2be654178977",
   "metadata": {},
   "source": [
    "### Below are a few examples of evaluating arithmetic expressions in Python"
   ]
  },
  {
   "cell_type": "markdown",
   "id": "dc78da4c-ec09-4b1b-8202-15b4a39a977e",
   "metadata": {},
   "source": [
    "## This a simple arithmetic expression to multiply and add integers"
   ]
  },
  {
   "cell_type": "code",
   "execution_count": 3,
   "id": "cfe8ca3e-0f22-466d-8ca7-49389e4855c4",
   "metadata": {},
   "outputs": [
    {
     "data": {
      "text/plain": [
       "17"
      ]
     },
     "execution_count": 3,
     "metadata": {},
     "output_type": "execute_result"
    }
   ],
   "source": [
    "(3*4)+5"
   ]
  },
  {
   "cell_type": "markdown",
   "id": "d493424c-c39c-4f6d-afed-f540f6653bc5",
   "metadata": {},
   "source": [
    "## This will convert 200 minutes to hours by diving by 60"
   ]
  },
  {
   "cell_type": "code",
   "execution_count": 4,
   "id": "b50ef698-c603-40ed-8df2-389f68dfb45e",
   "metadata": {},
   "outputs": [
    {
     "name": "stdout",
     "output_type": "stream",
     "text": [
      "3.3333333333333335\n"
     ]
    }
   ],
   "source": [
    "minutes = 200\n",
    "hours = minutes / 60\n",
    "print(hours)"
   ]
  },
  {
   "cell_type": "markdown",
   "id": "c5115d22-7807-4a34-930e-d0a4f226b055",
   "metadata": {},
   "source": [
    "## Author \n",
    "Adilet Turganbayev"
   ]
  },
  {
   "cell_type": "code",
   "execution_count": null,
   "id": "ca03731f-5fa2-425c-a0c7-84e8df3b584c",
   "metadata": {},
   "outputs": [],
   "source": []
  }
 ],
 "metadata": {
  "kernelspec": {
   "display_name": "anaconda-panel-2023.05-py310",
   "language": "python",
   "name": "conda-env-anaconda-panel-2023.05-py310-py"
  },
  "language_info": {
   "codemirror_mode": {
    "name": "ipython",
    "version": 3
   },
   "file_extension": ".py",
   "mimetype": "text/x-python",
   "name": "python",
   "nbconvert_exporter": "python",
   "pygments_lexer": "ipython3",
   "version": "3.11.5"
  }
 },
 "nbformat": 4,
 "nbformat_minor": 5
}
